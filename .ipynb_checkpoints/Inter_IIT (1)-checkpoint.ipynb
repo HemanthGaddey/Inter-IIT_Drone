{
 "cells": [
  {
   "cell_type": "code",
   "execution_count": 1,
   "id": "ac8461f0",
   "metadata": {},
   "outputs": [],
   "source": [
    "import cv2\n",
    "from cv2 import aruco\n",
    "import numpy as np"
   ]
  },
  {
   "cell_type": "markdown",
   "id": "c2a13c37",
   "metadata": {},
   "source": [
    "## Marker detection"
   ]
  },
  {
   "cell_type": "code",
   "execution_count": 2,
   "id": "e27d91e2",
   "metadata": {},
   "outputs": [],
   "source": [
    "marker_dict=aruco.getPredefinedDictionary(aruco.DICT_4X4_50)\n",
    "para_markers=aruco.DetectorParameters()\n",
    "\n",
    "cap=cv2.VideoCapture(\"aruco_test_footage.mp4\")\n",
    "\n",
    "while True:\n",
    "    ret,frame=cap.read()\n",
    "    if ret==False:\n",
    "        break\n",
    "    gray_img=cv2.cvtColor(frame,cv2.COLOR_BGR2GRAY)\n",
    "    marker_corners,marker_ids,reject=aruco.detectMarkers(gray_img,marker_dict,parameters=para_markers)\n",
    "    if marker_corners:\n",
    "#         print(len(marker_ids))\n",
    "#         print(marker_ids)\n",
    "        for j in range(len(marker_ids)):\n",
    "            for i in range(4):\n",
    "                cv2.line(frame,(int(marker_corners[j][0][i-1][0]),int(marker_corners[j][0][i-1][1])),(int(marker_corners[j][0][i][0]),int(marker_corners[j][0][i][1])),(0,255,0),4)\n",
    "    cv2.imshow(\"frame\",frame)\n",
    "    \n",
    "    key=cv2.waitKey(1)\n",
    "    if key==ord(\"q\"):\n",
    "        break\n",
    "cap.release()\n",
    "cv2.destroyAllWindows()\n",
    "        \n",
    "        "
   ]
  },
  {
   "cell_type": "markdown",
   "id": "536c2037",
   "metadata": {},
   "source": [
    "# Camera Calibration"
   ]
  },
  {
   "cell_type": "code",
   "execution_count": 14,
   "id": "9ca4c4ff",
   "metadata": {},
   "outputs": [],
   "source": [
    "import os"
   ]
  },
  {
   "cell_type": "code",
   "execution_count": 15,
   "id": "8e5f61be",
   "metadata": {},
   "outputs": [],
   "source": [
    "image_dir_path = \"s\"\n",
    "\n",
    "check_dir = os.path.isdir(image_dir_path)"
   ]
  },
  {
   "cell_type": "code",
   "execution_count": 16,
   "id": "35516a77",
   "metadata": {},
   "outputs": [],
   "source": [
    "if not check_dir:\n",
    "    os.makedirs(image_dir_path)"
   ]
  },
  {
   "cell_type": "code",
   "execution_count": 17,
   "id": "f72023d5",
   "metadata": {},
   "outputs": [],
   "source": [
    "board_dim=(9,6)"
   ]
  },
  {
   "cell_type": "code",
   "execution_count": 18,
   "id": "9a82a18e",
   "metadata": {},
   "outputs": [],
   "source": [
    "criteria = (cv2.TERM_CRITERIA_EPS + cv2.TERM_CRITERIA_MAX_ITER, 30, 0.001)\n",
    "def detect_checker_board(image, grayImage, criteria, boardDimension):\n",
    "    ret, corners = cv2.findChessboardCorners(grayImage, boardDimension)\n",
    "    if ret == True:\n",
    "        corners1 = cv2.cornerSubPix(grayImage, corners, (3, 3), (-1, -1), criteria)\n",
    "        image = cv2.drawChessboardCorners(image, boardDimension, corners1, ret)\n",
    "\n",
    "    return image, ret"
   ]
  },
  {
   "cell_type": "code",
   "execution_count": 20,
   "id": "0d339b90",
   "metadata": {},
   "outputs": [
    {
     "name": "stdout",
     "output_type": "stream",
     "text": [
      "27 images are saved\n"
     ]
    }
   ],
   "source": [
    "capt=cv2.VideoCapture(1)\n",
    "n=0\n",
    "while True:\n",
    "    ret,frame=capt.read()\n",
    "#     copy_frame=frame.copy()\n",
    "    if ret==False:\n",
    "        break\n",
    "    gray_img=cv2.cvtColor(frame,cv2.COLOR_BGR2GRAY)\n",
    "    \n",
    "    image,board_detected=detect_checker_board(frame, gray_img, criteria, board_dim)\n",
    "    \n",
    "    cv2.putText(image, f\"image_{n}\", (50,40), cv2.FONT_HERSHEY_PLAIN, 2, (0,0,255))\n",
    "    cv2.imshow(\"frame\", image)\n",
    "    key=cv2.waitKey(1)\n",
    "    \n",
    "    if key==ord(\"s\"):\n",
    "        n+=1\n",
    "        cv2.imwrite(f\"{image_dir_path}/image_{n}.png\",frame)\n",
    "    if key==ord(\"q\"):\n",
    "        print(f\"{n} images are saved\")\n",
    "        break\n",
    "    \n",
    "capt.release()\n",
    "cv2.destroyAllWindows()\n",
    "    "
   ]
  },
  {
   "cell_type": "markdown",
   "id": "30107069",
   "metadata": {},
   "source": [
    "# Distance measurement"
   ]
  },
  {
   "cell_type": "code",
   "execution_count": 12,
   "id": "b2f433ea",
   "metadata": {},
   "outputs": [],
   "source": [
    "import os\n",
    "import cv2\n",
    "from cv2 import aruco\n",
    "import numpy as np"
   ]
  },
  {
   "cell_type": "code",
   "execution_count": 25,
   "id": "b53aff24",
   "metadata": {},
   "outputs": [
    {
     "name": "stdout",
     "output_type": "stream",
     "text": [
      "[[ 0.         0.         0.       ]\n",
      " [ 2.4        0.         0.       ]\n",
      " [ 4.8        0.         0.       ]\n",
      " [ 7.2000003  0.         0.       ]\n",
      " [ 9.6        0.         0.       ]\n",
      " [12.         0.         0.       ]\n",
      " [14.400001   0.         0.       ]\n",
      " [16.800001   0.         0.       ]\n",
      " [19.2        0.         0.       ]\n",
      " [ 0.         2.4        0.       ]\n",
      " [ 2.4        2.4        0.       ]\n",
      " [ 4.8        2.4        0.       ]\n",
      " [ 7.2000003  2.4        0.       ]\n",
      " [ 9.6        2.4        0.       ]\n",
      " [12.         2.4        0.       ]\n",
      " [14.400001   2.4        0.       ]\n",
      " [16.800001   2.4        0.       ]\n",
      " [19.2        2.4        0.       ]\n",
      " [ 0.         4.8        0.       ]\n",
      " [ 2.4        4.8        0.       ]\n",
      " [ 4.8        4.8        0.       ]\n",
      " [ 7.2000003  4.8        0.       ]\n",
      " [ 9.6        4.8        0.       ]\n",
      " [12.         4.8        0.       ]\n",
      " [14.400001   4.8        0.       ]\n",
      " [16.800001   4.8        0.       ]\n",
      " [19.2        4.8        0.       ]\n",
      " [ 0.         7.2000003  0.       ]\n",
      " [ 2.4        7.2000003  0.       ]\n",
      " [ 4.8        7.2000003  0.       ]\n",
      " [ 7.2000003  7.2000003  0.       ]\n",
      " [ 9.6        7.2000003  0.       ]\n",
      " [12.         7.2000003  0.       ]\n",
      " [14.400001   7.2000003  0.       ]\n",
      " [16.800001   7.2000003  0.       ]\n",
      " [19.2        7.2000003  0.       ]\n",
      " [ 0.         9.6        0.       ]\n",
      " [ 2.4        9.6        0.       ]\n",
      " [ 4.8        9.6        0.       ]\n",
      " [ 7.2000003  9.6        0.       ]\n",
      " [ 9.6        9.6        0.       ]\n",
      " [12.         9.6        0.       ]\n",
      " [14.400001   9.6        0.       ]\n",
      " [16.800001   9.6        0.       ]\n",
      " [19.2        9.6        0.       ]\n",
      " [ 0.        12.         0.       ]\n",
      " [ 2.4       12.         0.       ]\n",
      " [ 4.8       12.         0.       ]\n",
      " [ 7.2000003 12.         0.       ]\n",
      " [ 9.6       12.         0.       ]\n",
      " [12.        12.         0.       ]\n",
      " [14.400001  12.         0.       ]\n",
      " [16.800001  12.         0.       ]\n",
      " [19.2       12.         0.       ]]\n",
      "s\\image_10.png\n",
      "s\\image_11.png\n",
      "s\\image_12.png\n",
      "s\\image_13.png\n",
      "s\\image_14.png\n",
      "s\\image_15.png\n",
      "s\\image_16.png\n",
      "s\\image_17.png\n",
      "s\\image_18.png\n",
      "s\\image_19.png\n",
      "s\\image_2.png\n",
      "s\\image_20.png\n",
      "s\\image_21.png\n",
      "s\\image_22.png\n",
      "s\\image_23.png\n",
      "s\\image_24.png\n",
      "s\\image_25.png\n",
      "s\\image_26.png\n",
      "s\\image_27.png\n",
      "s\\image_3.png\n",
      "s\\image_4.png\n",
      "s\\image_5.png\n",
      "s\\image_6.png\n",
      "s\\image_7.png\n",
      "s\\image_8.png\n",
      "s\\image_9.png\n"
     ]
    }
   ],
   "source": [
    "chessboard_dim=(9,6)\n",
    "square_size=2.4\n",
    "Criteria = (cv2.TERM_CRITERIA_EPS + cv2.TERM_CRITERIA_MAX_ITER, 30, 0.001)\n",
    "\n",
    "calibdata_path=\"calib\"\n",
    "checkdir =os.path.isdir(calibdata_path)\n",
    "\n",
    "os.makedirs(calibdata_path)\n",
    "# ----------------------------------------------\n",
    "obj_3D = np.zeros((chessboard_dim[0] * chessboard_dim[1], 3), np.float32)\n",
    "obj_3D[:, :2] = np.mgrid[0 : chessboard_dim[0], 0 : chessboard_dim[1]].T.reshape(\n",
    "    -1, 2\n",
    ")\n",
    "obj_3D *= square_size\n",
    "print(obj_3D)\n",
    "\n",
    "obj_points_3d=[]\n",
    "img_points_2d=[]\n",
    "\n",
    "image_dir_path=\"s\"\n",
    "files=os.listdir(image_dir_path)\n",
    "for file in files[1:]:\n",
    "    imagepath = os.path.join(image_dir_path, file)\n",
    "    img=cv2.imread(imagepath)\n",
    "    print(imagepath)\n",
    "    gray_img=cv2.cvtColor(img, cv2.COLOR_BGR2GRAY)\n",
    "    ret,corners=cv2.findChessboardCorners(img, chessboard_dim, None)\n",
    "    if ret==True:\n",
    "        obj_points_3d.append(obj_3D)\n",
    "        corners2 = cv2.cornerSubPix(gray_img, corners, (3, 3), (-1, -1), Criteria)\n",
    "        img_points_2d.append(corners2)\n",
    "\n",
    "        image = cv2.drawChessboardCorners(img, chessboard_dim, corners2, ret)\n",
    "cv2.destroyAllWindows()"
   ]
  },
  {
   "cell_type": "code",
   "execution_count": 26,
   "id": "bae22e58",
   "metadata": {},
   "outputs": [
    {
     "name": "stdout",
     "output_type": "stream",
     "text": [
      "calibrated\n",
      "loaded calibration data successfully\n"
     ]
    }
   ],
   "source": [
    "ret, mtx, dist, rvecs, tvecs = cv2.calibrateCamera(obj_points_3d, img_points_2d, gray_img.shape[::-1], None, None)\n",
    "print(\"calibrated\")\n",
    "np.savez(\n",
    "    f\"{calibdata_path}/MultiMatrix\",\n",
    "    camMatrix=mtx,\n",
    "    distCoef=dist,\n",
    "    rVector=rvecs,\n",
    "    tVector=tvecs,\n",
    ")\n",
    "data = np.load(f\"{calibdata_path}/MultiMatrix.npz\")\n",
    "\"\"\n",
    "camMatrix = data[\"camMatrix\"]\n",
    "distCof = data[\"distCoef\"]\n",
    "rVector = data[\"rVector\"]\n",
    "tVector = data[\"tVector\"]\n",
    "\n",
    "camMatrix\n",
    "print(\"loaded calibration data successfully\")"
   ]
  },
  {
   "cell_type": "code",
   "execution_count": 1,
   "id": "146a0dc4",
   "metadata": {},
   "outputs": [],
   "source": [
    "import cv2\n",
    "from cv2 import aruco\n",
    "import numpy as np"
   ]
  },
  {
   "cell_type": "code",
   "execution_count": 3,
   "id": "e0496c6a",
   "metadata": {},
   "outputs": [],
   "source": [
    "data = np.load(\"MultiMatrix.npz\")\n",
    "\n",
    "camMatrix = data[\"camMatrix\"]\n",
    "distCof = data[\"distCoef\"]\n",
    "rVector = data[\"rVector\"]\n",
    "tVector = data[\"tVector\"]"
   ]
  },
  {
   "cell_type": "code",
   "execution_count": 11,
   "id": "fd813fa0",
   "metadata": {},
   "outputs": [],
   "source": [
    "# print(camMatrix)\n",
    "# print(distCof)\n",
    "# print(rVector)\n",
    "# print(tVector)"
   ]
  },
  {
   "cell_type": "markdown",
   "id": "cc800e22",
   "metadata": {},
   "source": [
    "!I got to know know few functions of aruco library to detect the arucomarker"
   ]
  },
  {
   "cell_type": "code",
   "execution_count": 4,
   "id": "c8a74379",
   "metadata": {},
   "outputs": [
    {
     "data": {
      "text/plain": [
       "array([[599.70133947,   0.        , 252.28529552],\n",
       "       [  0.        , 598.12050261, 222.41031441],\n",
       "       [  0.        ,   0.        ,   1.        ]])"
      ]
     },
     "execution_count": 4,
     "metadata": {},
     "output_type": "execute_result"
    }
   ],
   "source": [
    "camMatrix"
   ]
  },
  {
   "cell_type": "code",
   "execution_count": 6,
   "id": "0804591c",
   "metadata": {},
   "outputs": [],
   "source": [
    "Marker_size=3.4 #centimeters\n",
    "\n",
    "Marker_dict=aruco.getPredefinedDictionary(aruco.DICT_4X4_50)\n",
    "Para_markers=aruco.DetectorParameters()\n",
    "\n",
    "capture=cv2.VideoCapture(0)\n",
    "\n",
    "while True:\n",
    "    ret,frame=capture.read()\n",
    "    \n",
    "    if ret==False:\n",
    "        break\n",
    "    grayimg=cv2.cvtColor(frame, cv2.COLOR_BGR2GRAY)\n",
    "    marker_corners, marker_ids, reject = aruco.detectMarkers(grayimg, Marker_dict, parameters=Para_markers)\n",
    "    if marker_corners:\n",
    "        rVec, tVec, _ = aruco.estimatePoseSingleMarkers(marker_corners, Marker_size, camMatrix, distCof)\n",
    "        total_markers = range(0, marker_ids.size)\n",
    "        for j in range(len(marker_ids)):\n",
    "            for i in range(4):\n",
    "                cv2.line(frame,(int(marker_corners[j][0][i-1][0]),int(marker_corners[j][0][i-1][1])),(int(marker_corners[j][0][i][0]),int(marker_corners[j][0][i][1])),(0,255,0),4)\n",
    "                \n",
    "            point = cv2.drawFrameAxes(frame, camMatrix, distCof, rVec[j], tVec[j], 4, 4)\n",
    "\n",
    "            distance = np.sqrt(tVec[j][0][2] ** 2 + tVec[j][0][0] ** 2 + tVec[j][0][1] ** 2)\n",
    "            distance=distance/1.704\n",
    "            \n",
    "            cv2.putText(frame, f\"{distance}\", (70,40),  cv2.FONT_HERSHEY_PLAIN, 4, (255,0,0))\n",
    "            \n",
    "            cv2.putText(frame,f\"x:{round(tVec[j][0][0],1)} y: {round(tVec[j][0][1],1)} \",(400,40),cv2.FONT_HERSHEY_PLAIN,\n",
    "                1.0,(0, 0, 255),2,cv2.LINE_AA)\n",
    "              \n",
    "        \n",
    "    cv2.imshow(\"frame\",frame)\n",
    "\n",
    "    key=cv2.waitKey(1)\n",
    "\n",
    "    if key==ord(\"q\"):\n",
    "        break\n",
    "capture.release()\n",
    "cv2.destroyAllWindows()\n"
   ]
  },
  {
   "cell_type": "code",
   "execution_count": 37,
   "id": "0e93e1e6",
   "metadata": {},
   "outputs": [],
   "source": [
    "import matplotlib.pyplot as plt"
   ]
  },
  {
   "cell_type": "code",
   "execution_count": 38,
   "id": "9a12713f",
   "metadata": {},
   "outputs": [
    {
     "data": {
      "image/png": "[encoded data removed]",
      "text/plain": [
       "<Figure size 640x480 with 1 Axes>"
      ]
     },
     "metadata": {},
     "output_type": "display_data"
    }
   ],
   "source": [
    "x=[10,15,20,25,30]\n",
    "y=[13.5,21.4,28.4,35.3,42.6]\n",
    "\n",
    "plt.plot(x,y)\n",
    "plt.show()"
   ]
  }
 ],
 "metadata": {
  "kernelspec": {
   "display_name": "Python 3 (ipykernel)",
   "language": "python",
   "name": "python3"
  },
  "language_info": {
   "codemirror_mode": {
    "name": "ipython",
    "version": 3
   },
   "file_extension": ".py",
   "mimetype": "text/x-python",
   "name": "python",
   "nbconvert_exporter": "python",
   "pygments_lexer": "ipython3",
   "version": "3.11.1"
  }
 },
 "nbformat": 4,
 "nbformat_minor": 5
}
